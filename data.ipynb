{
 "cells": [
  {
   "metadata": {},
   "cell_type": "markdown",
   "source": "# Data Processing",
   "id": "75852b8e51af2279"
  },
  {
   "metadata": {
    "ExecuteTime": {
     "end_time": "2025-05-14T07:21:13.381919Z",
     "start_time": "2025-05-14T07:21:12.525750Z"
    }
   },
   "cell_type": "code",
   "source": [
    "# Imports\n",
    "import os\n",
    "import torch\n",
    "import numpy as np\n",
    "import pandas as pd\n",
    "from scipy.io import mmread"
   ],
   "id": "b594b9c64bb75b73",
   "outputs": [],
   "execution_count": 1
  },
  {
   "metadata": {},
   "cell_type": "markdown",
   "source": [
    "---\n",
    "# iBKH"
   ],
   "id": "dc5337a766dbb8e5"
  },
  {
   "metadata": {
    "ExecuteTime": {
     "end_time": "2025-05-14T07:21:14.262451Z",
     "start_time": "2025-05-14T07:21:14.260646Z"
    }
   },
   "cell_type": "code",
   "source": [
    "# DATA\n",
    "IBKH_PATH = 'data/iBKH'"
   ],
   "id": "7d194526ed36abe1",
   "outputs": [],
   "execution_count": 2
  },
  {
   "metadata": {
    "ExecuteTime": {
     "end_time": "2025-05-14T07:21:14.880879Z",
     "start_time": "2025-05-14T07:21:14.757512Z"
    }
   },
   "cell_type": "code",
   "source": [
    "disease_vocab = pd.read_csv(f'{IBKH_PATH}/disease_vocab.csv')\n",
    "gene_vocab    = pd.read_csv(f'{IBKH_PATH}/gene_vocab.csv')\n",
    "\n",
    "disease_conv = dict(zip(disease_vocab['primary'], disease_vocab['icd_9']))\n",
    "gene_conv    = dict(zip(gene_vocab['primary'], gene_vocab['symbol']))"
   ],
   "id": "599934444f8341c4",
   "outputs": [],
   "execution_count": 3
  },
  {
   "metadata": {
    "ExecuteTime": {
     "end_time": "2025-05-13T21:01:27.879408Z",
     "start_time": "2025-05-13T21:01:27.155972Z"
    }
   },
   "cell_type": "code",
   "source": [
    "# Drug-Drug\n",
    "FILE_NAME = 'D_D'\n",
    "df = pd.read_csv(f'{IBKH_PATH}/{FILE_NAME}_res.csv').iloc[:, 0:3]\n",
    "# df = df[df.iloc[:, 2] == 1].reset_index(drop=True).iloc[:, 0:2]\n",
    "\n",
    "df"
   ],
   "id": "8ba849855cb6273b",
   "outputs": [
    {
     "data": {
      "text/plain": [
       "                   Drug_1            Drug_2  Interaction\n",
       "0        DrugBank:DB00001  DrugBank:DB06605            1\n",
       "1        DrugBank:DB00001  DrugBank:DB06695            1\n",
       "2        DrugBank:DB00001  DrugBank:DB01254            1\n",
       "3        DrugBank:DB00001  DrugBank:DB01609            1\n",
       "4        DrugBank:DB00001  DrugBank:DB01586            1\n",
       "...                   ...               ...          ...\n",
       "2684677  DrugBank:DB00190  DrugBank:DB01064            0\n",
       "2684678  DrugBank:DB00487  DrugBank:DB06771            0\n",
       "2684679  DrugBank:DB01201  DrugBank:DB01220            0\n",
       "2684680  DrugBank:DB06147  DrugBank:DB00664            0\n",
       "2684681  DrugBank:DB06691  DrugBank:DB08800            0\n",
       "\n",
       "[2684682 rows x 3 columns]"
      ],
      "text/html": [
       "<div>\n",
       "<style scoped>\n",
       "    .dataframe tbody tr th:only-of-type {\n",
       "        vertical-align: middle;\n",
       "    }\n",
       "\n",
       "    .dataframe tbody tr th {\n",
       "        vertical-align: top;\n",
       "    }\n",
       "\n",
       "    .dataframe thead th {\n",
       "        text-align: right;\n",
       "    }\n",
       "</style>\n",
       "<table border=\"1\" class=\"dataframe\">\n",
       "  <thead>\n",
       "    <tr style=\"text-align: right;\">\n",
       "      <th></th>\n",
       "      <th>Drug_1</th>\n",
       "      <th>Drug_2</th>\n",
       "      <th>Interaction</th>\n",
       "    </tr>\n",
       "  </thead>\n",
       "  <tbody>\n",
       "    <tr>\n",
       "      <th>0</th>\n",
       "      <td>DrugBank:DB00001</td>\n",
       "      <td>DrugBank:DB06605</td>\n",
       "      <td>1</td>\n",
       "    </tr>\n",
       "    <tr>\n",
       "      <th>1</th>\n",
       "      <td>DrugBank:DB00001</td>\n",
       "      <td>DrugBank:DB06695</td>\n",
       "      <td>1</td>\n",
       "    </tr>\n",
       "    <tr>\n",
       "      <th>2</th>\n",
       "      <td>DrugBank:DB00001</td>\n",
       "      <td>DrugBank:DB01254</td>\n",
       "      <td>1</td>\n",
       "    </tr>\n",
       "    <tr>\n",
       "      <th>3</th>\n",
       "      <td>DrugBank:DB00001</td>\n",
       "      <td>DrugBank:DB01609</td>\n",
       "      <td>1</td>\n",
       "    </tr>\n",
       "    <tr>\n",
       "      <th>4</th>\n",
       "      <td>DrugBank:DB00001</td>\n",
       "      <td>DrugBank:DB01586</td>\n",
       "      <td>1</td>\n",
       "    </tr>\n",
       "    <tr>\n",
       "      <th>...</th>\n",
       "      <td>...</td>\n",
       "      <td>...</td>\n",
       "      <td>...</td>\n",
       "    </tr>\n",
       "    <tr>\n",
       "      <th>2684677</th>\n",
       "      <td>DrugBank:DB00190</td>\n",
       "      <td>DrugBank:DB01064</td>\n",
       "      <td>0</td>\n",
       "    </tr>\n",
       "    <tr>\n",
       "      <th>2684678</th>\n",
       "      <td>DrugBank:DB00487</td>\n",
       "      <td>DrugBank:DB06771</td>\n",
       "      <td>0</td>\n",
       "    </tr>\n",
       "    <tr>\n",
       "      <th>2684679</th>\n",
       "      <td>DrugBank:DB01201</td>\n",
       "      <td>DrugBank:DB01220</td>\n",
       "      <td>0</td>\n",
       "    </tr>\n",
       "    <tr>\n",
       "      <th>2684680</th>\n",
       "      <td>DrugBank:DB06147</td>\n",
       "      <td>DrugBank:DB00664</td>\n",
       "      <td>0</td>\n",
       "    </tr>\n",
       "    <tr>\n",
       "      <th>2684681</th>\n",
       "      <td>DrugBank:DB06691</td>\n",
       "      <td>DrugBank:DB08800</td>\n",
       "      <td>0</td>\n",
       "    </tr>\n",
       "  </tbody>\n",
       "</table>\n",
       "<p>2684682 rows × 3 columns</p>\n",
       "</div>"
      ]
     },
     "execution_count": 11,
     "metadata": {},
     "output_type": "execute_result"
    }
   ],
   "execution_count": 11
  },
  {
   "metadata": {
    "ExecuteTime": {
     "end_time": "2025-05-13T21:01:31.471354Z",
     "start_time": "2025-05-13T21:01:30.197064Z"
    }
   },
   "cell_type": "code",
   "source": [
    "# Drug-Disease\n",
    "FILE_NAME = 'D_Di'\n",
    "df = pd.read_csv(f'{IBKH_PATH}/{FILE_NAME}_res.csv').iloc[:, 0:3]\n",
    "# df = df[df.iloc[:, 2] == 1].reset_index(drop=True).iloc[:, 0:2]\n",
    "\n",
    "# Update Labels\n",
    "df.iloc[:, 1] = df.iloc[:, 1].map(disease_conv).fillna(df.iloc[:,1])\n",
    "\n",
    "df"
   ],
   "id": "84e6fd509a6c317a",
   "outputs": [
    {
     "data": {
      "text/plain": [
       "                     Drug      Disease  Treats\n",
       "0        DrugBank:DB00997          179       1\n",
       "1        DrugBank:DB00206   401-405.99       1\n",
       "2        DrugBank:DB00960   401-405.99       1\n",
       "3        DrugBank:DB00665          185       1\n",
       "4        DrugBank:DB00290          186       1\n",
       "...                   ...          ...     ...\n",
       "2717942      MeSH:D043168        710.0       0\n",
       "2717943      MeSH:D047188    DOID:2935       0\n",
       "2717944      MeSH:D050822   410-414.99       0\n",
       "2717945      MeSH:D054428          250       0\n",
       "2717946  DrugBank:DB01601  KEGG:H00342       0\n",
       "\n",
       "[2717947 rows x 3 columns]"
      ],
      "text/html": [
       "<div>\n",
       "<style scoped>\n",
       "    .dataframe tbody tr th:only-of-type {\n",
       "        vertical-align: middle;\n",
       "    }\n",
       "\n",
       "    .dataframe tbody tr th {\n",
       "        vertical-align: top;\n",
       "    }\n",
       "\n",
       "    .dataframe thead th {\n",
       "        text-align: right;\n",
       "    }\n",
       "</style>\n",
       "<table border=\"1\" class=\"dataframe\">\n",
       "  <thead>\n",
       "    <tr style=\"text-align: right;\">\n",
       "      <th></th>\n",
       "      <th>Drug</th>\n",
       "      <th>Disease</th>\n",
       "      <th>Treats</th>\n",
       "    </tr>\n",
       "  </thead>\n",
       "  <tbody>\n",
       "    <tr>\n",
       "      <th>0</th>\n",
       "      <td>DrugBank:DB00997</td>\n",
       "      <td>179</td>\n",
       "      <td>1</td>\n",
       "    </tr>\n",
       "    <tr>\n",
       "      <th>1</th>\n",
       "      <td>DrugBank:DB00206</td>\n",
       "      <td>401-405.99</td>\n",
       "      <td>1</td>\n",
       "    </tr>\n",
       "    <tr>\n",
       "      <th>2</th>\n",
       "      <td>DrugBank:DB00960</td>\n",
       "      <td>401-405.99</td>\n",
       "      <td>1</td>\n",
       "    </tr>\n",
       "    <tr>\n",
       "      <th>3</th>\n",
       "      <td>DrugBank:DB00665</td>\n",
       "      <td>185</td>\n",
       "      <td>1</td>\n",
       "    </tr>\n",
       "    <tr>\n",
       "      <th>4</th>\n",
       "      <td>DrugBank:DB00290</td>\n",
       "      <td>186</td>\n",
       "      <td>1</td>\n",
       "    </tr>\n",
       "    <tr>\n",
       "      <th>...</th>\n",
       "      <td>...</td>\n",
       "      <td>...</td>\n",
       "      <td>...</td>\n",
       "    </tr>\n",
       "    <tr>\n",
       "      <th>2717942</th>\n",
       "      <td>MeSH:D043168</td>\n",
       "      <td>710.0</td>\n",
       "      <td>0</td>\n",
       "    </tr>\n",
       "    <tr>\n",
       "      <th>2717943</th>\n",
       "      <td>MeSH:D047188</td>\n",
       "      <td>DOID:2935</td>\n",
       "      <td>0</td>\n",
       "    </tr>\n",
       "    <tr>\n",
       "      <th>2717944</th>\n",
       "      <td>MeSH:D050822</td>\n",
       "      <td>410-414.99</td>\n",
       "      <td>0</td>\n",
       "    </tr>\n",
       "    <tr>\n",
       "      <th>2717945</th>\n",
       "      <td>MeSH:D054428</td>\n",
       "      <td>250</td>\n",
       "      <td>0</td>\n",
       "    </tr>\n",
       "    <tr>\n",
       "      <th>2717946</th>\n",
       "      <td>DrugBank:DB01601</td>\n",
       "      <td>KEGG:H00342</td>\n",
       "      <td>0</td>\n",
       "    </tr>\n",
       "  </tbody>\n",
       "</table>\n",
       "<p>2717947 rows × 3 columns</p>\n",
       "</div>"
      ]
     },
     "execution_count": 12,
     "metadata": {},
     "output_type": "execute_result"
    }
   ],
   "execution_count": 12
  },
  {
   "metadata": {
    "ExecuteTime": {
     "end_time": "2025-05-13T21:01:36.127609Z",
     "start_time": "2025-05-13T21:01:35.276528Z"
    }
   },
   "cell_type": "code",
   "source": [
    "# Drug-Gene\n",
    "FILE_NAME = 'D_G'\n",
    "df = pd.read_csv(f'{IBKH_PATH}/{FILE_NAME}_res.csv').iloc[:, 0:3]\n",
    "# df = df[df.iloc[:, 2] == 1].reset_index(drop=True).iloc[:, 0:2]\n",
    "\n",
    "# Update Labels\n",
    "df.iloc[:, 1] = df.iloc[:, 1].map(gene_conv).fillna(df.iloc[:,1])\n",
    "\n",
    "df"
   ],
   "id": "c08efb5e610acd8e",
   "outputs": [
    {
     "data": {
      "text/plain": [
       "                     Drug    Gene  Target\n",
       "0        DrugBank:DB00114     HDC       1\n",
       "1        DrugBank:DB00117     HDC       1\n",
       "2        DrugBank:DB00142    GLS2       1\n",
       "3        DrugBank:DB02340   F13A1       1\n",
       "4        DrugBank:DB11300   F13A1       1\n",
       "...                   ...     ...     ...\n",
       "1303742  DrugBank:DB00619  PKMYT1       0\n",
       "1303743  DrugBank:DB00619    NEK9       0\n",
       "1303744  DrugBank:DB00619     SLK       0\n",
       "1303745  DrugBank:DB00619    MELK       0\n",
       "1303746  DrugBank:DB00619   C2CD5       0\n",
       "\n",
       "[1303747 rows x 3 columns]"
      ],
      "text/html": [
       "<div>\n",
       "<style scoped>\n",
       "    .dataframe tbody tr th:only-of-type {\n",
       "        vertical-align: middle;\n",
       "    }\n",
       "\n",
       "    .dataframe tbody tr th {\n",
       "        vertical-align: top;\n",
       "    }\n",
       "\n",
       "    .dataframe thead th {\n",
       "        text-align: right;\n",
       "    }\n",
       "</style>\n",
       "<table border=\"1\" class=\"dataframe\">\n",
       "  <thead>\n",
       "    <tr style=\"text-align: right;\">\n",
       "      <th></th>\n",
       "      <th>Drug</th>\n",
       "      <th>Gene</th>\n",
       "      <th>Target</th>\n",
       "    </tr>\n",
       "  </thead>\n",
       "  <tbody>\n",
       "    <tr>\n",
       "      <th>0</th>\n",
       "      <td>DrugBank:DB00114</td>\n",
       "      <td>HDC</td>\n",
       "      <td>1</td>\n",
       "    </tr>\n",
       "    <tr>\n",
       "      <th>1</th>\n",
       "      <td>DrugBank:DB00117</td>\n",
       "      <td>HDC</td>\n",
       "      <td>1</td>\n",
       "    </tr>\n",
       "    <tr>\n",
       "      <th>2</th>\n",
       "      <td>DrugBank:DB00142</td>\n",
       "      <td>GLS2</td>\n",
       "      <td>1</td>\n",
       "    </tr>\n",
       "    <tr>\n",
       "      <th>3</th>\n",
       "      <td>DrugBank:DB02340</td>\n",
       "      <td>F13A1</td>\n",
       "      <td>1</td>\n",
       "    </tr>\n",
       "    <tr>\n",
       "      <th>4</th>\n",
       "      <td>DrugBank:DB11300</td>\n",
       "      <td>F13A1</td>\n",
       "      <td>1</td>\n",
       "    </tr>\n",
       "    <tr>\n",
       "      <th>...</th>\n",
       "      <td>...</td>\n",
       "      <td>...</td>\n",
       "      <td>...</td>\n",
       "    </tr>\n",
       "    <tr>\n",
       "      <th>1303742</th>\n",
       "      <td>DrugBank:DB00619</td>\n",
       "      <td>PKMYT1</td>\n",
       "      <td>0</td>\n",
       "    </tr>\n",
       "    <tr>\n",
       "      <th>1303743</th>\n",
       "      <td>DrugBank:DB00619</td>\n",
       "      <td>NEK9</td>\n",
       "      <td>0</td>\n",
       "    </tr>\n",
       "    <tr>\n",
       "      <th>1303744</th>\n",
       "      <td>DrugBank:DB00619</td>\n",
       "      <td>SLK</td>\n",
       "      <td>0</td>\n",
       "    </tr>\n",
       "    <tr>\n",
       "      <th>1303745</th>\n",
       "      <td>DrugBank:DB00619</td>\n",
       "      <td>MELK</td>\n",
       "      <td>0</td>\n",
       "    </tr>\n",
       "    <tr>\n",
       "      <th>1303746</th>\n",
       "      <td>DrugBank:DB00619</td>\n",
       "      <td>C2CD5</td>\n",
       "      <td>0</td>\n",
       "    </tr>\n",
       "  </tbody>\n",
       "</table>\n",
       "<p>1303747 rows × 3 columns</p>\n",
       "</div>"
      ]
     },
     "execution_count": 13,
     "metadata": {},
     "output_type": "execute_result"
    }
   ],
   "execution_count": 13
  },
  {
   "metadata": {
    "ExecuteTime": {
     "end_time": "2025-05-13T21:01:36.191407Z",
     "start_time": "2025-05-13T21:01:36.170555Z"
    }
   },
   "cell_type": "code",
   "source": [
    "# Disease-Disease\n",
    "FILE_NAME = 'Di_Di'\n",
    "df = pd.read_csv(f'{IBKH_PATH}/{FILE_NAME}_res.csv').iloc[:, 0:3]\n",
    "# df = df[df.iloc[:, 2] == 1].reset_index(drop=True).iloc[:, 0:2]\n",
    "\n",
    "# Update Labels\n",
    "df.iloc[:, 0] = df.iloc[:, 0].map(disease_conv).fillna(df.iloc[:,0])\n",
    "df.iloc[:, 1] = df.iloc[:, 1].map(disease_conv).fillna(df.iloc[:,1])\n",
    "\n",
    "df"
   ],
   "id": "5364bbf644b0c130",
   "outputs": [
    {
     "data": {
      "text/plain": [
       "          Disease_1 Disease_2  is_a\n",
       "0      DOID:0001816  DOID:175     1\n",
       "1          DOID:175  DOID:176     1\n",
       "2      DOID:0002116     371.9     1\n",
       "3             371.9    379.90     1\n",
       "4             277.9    DOID:4     1\n",
       "...             ...       ...   ...\n",
       "11067           153       556     0\n",
       "11068     DOID:2994     152.1     0\n",
       "11069         157.0       151     0\n",
       "11070           153     156.0     0\n",
       "11071     DOID:4045     190.8     0\n",
       "\n",
       "[11072 rows x 3 columns]"
      ],
      "text/html": [
       "<div>\n",
       "<style scoped>\n",
       "    .dataframe tbody tr th:only-of-type {\n",
       "        vertical-align: middle;\n",
       "    }\n",
       "\n",
       "    .dataframe tbody tr th {\n",
       "        vertical-align: top;\n",
       "    }\n",
       "\n",
       "    .dataframe thead th {\n",
       "        text-align: right;\n",
       "    }\n",
       "</style>\n",
       "<table border=\"1\" class=\"dataframe\">\n",
       "  <thead>\n",
       "    <tr style=\"text-align: right;\">\n",
       "      <th></th>\n",
       "      <th>Disease_1</th>\n",
       "      <th>Disease_2</th>\n",
       "      <th>is_a</th>\n",
       "    </tr>\n",
       "  </thead>\n",
       "  <tbody>\n",
       "    <tr>\n",
       "      <th>0</th>\n",
       "      <td>DOID:0001816</td>\n",
       "      <td>DOID:175</td>\n",
       "      <td>1</td>\n",
       "    </tr>\n",
       "    <tr>\n",
       "      <th>1</th>\n",
       "      <td>DOID:175</td>\n",
       "      <td>DOID:176</td>\n",
       "      <td>1</td>\n",
       "    </tr>\n",
       "    <tr>\n",
       "      <th>2</th>\n",
       "      <td>DOID:0002116</td>\n",
       "      <td>371.9</td>\n",
       "      <td>1</td>\n",
       "    </tr>\n",
       "    <tr>\n",
       "      <th>3</th>\n",
       "      <td>371.9</td>\n",
       "      <td>379.90</td>\n",
       "      <td>1</td>\n",
       "    </tr>\n",
       "    <tr>\n",
       "      <th>4</th>\n",
       "      <td>277.9</td>\n",
       "      <td>DOID:4</td>\n",
       "      <td>1</td>\n",
       "    </tr>\n",
       "    <tr>\n",
       "      <th>...</th>\n",
       "      <td>...</td>\n",
       "      <td>...</td>\n",
       "      <td>...</td>\n",
       "    </tr>\n",
       "    <tr>\n",
       "      <th>11067</th>\n",
       "      <td>153</td>\n",
       "      <td>556</td>\n",
       "      <td>0</td>\n",
       "    </tr>\n",
       "    <tr>\n",
       "      <th>11068</th>\n",
       "      <td>DOID:2994</td>\n",
       "      <td>152.1</td>\n",
       "      <td>0</td>\n",
       "    </tr>\n",
       "    <tr>\n",
       "      <th>11069</th>\n",
       "      <td>157.0</td>\n",
       "      <td>151</td>\n",
       "      <td>0</td>\n",
       "    </tr>\n",
       "    <tr>\n",
       "      <th>11070</th>\n",
       "      <td>153</td>\n",
       "      <td>156.0</td>\n",
       "      <td>0</td>\n",
       "    </tr>\n",
       "    <tr>\n",
       "      <th>11071</th>\n",
       "      <td>DOID:4045</td>\n",
       "      <td>190.8</td>\n",
       "      <td>0</td>\n",
       "    </tr>\n",
       "  </tbody>\n",
       "</table>\n",
       "<p>11072 rows × 3 columns</p>\n",
       "</div>"
      ]
     },
     "execution_count": 14,
     "metadata": {},
     "output_type": "execute_result"
    }
   ],
   "execution_count": 14
  },
  {
   "metadata": {},
   "cell_type": "code",
   "source": [
    "# Disease-Gene\n",
    "FILE_NAME = 'Di_G'\n",
    "df = pd.read_csv(f'{IBKH_PATH}/{FILE_NAME}_res.csv').iloc[:, 0:3]\n",
    "# df = df[df.iloc[:, 2] == 1].reset_index(drop=True).iloc[:, 0:2]\n",
    "\n",
    "# Update Labels\n",
    "df.iloc[:, 0] = df.iloc[:, 0].map(disease_conv).fillna(df.iloc[:,0])\n",
    "df.iloc[:, 1] = df.iloc[:, 1].map(gene_conv   ).fillna(df.iloc[:,1])\n",
    "\n",
    "df"
   ],
   "id": "fe5fd11e2c6c2a5f",
   "outputs": [],
   "execution_count": null
  },
  {
   "metadata": {
    "ExecuteTime": {
     "end_time": "2025-05-13T18:47:32.888288Z",
     "start_time": "2025-05-13T18:47:32.283004Z"
    }
   },
   "cell_type": "code",
   "source": [
    "# Gene-Gene\n",
    "FILE_NAME = 'G_G'\n",
    "df = pd.read_csv(f'{IBKH_PATH}/{FILE_NAME}_res.csv').iloc[:, 0:3]\n",
    "# df = df[df.iloc[:, 2] == 1].reset_index(drop=True).iloc[:, 0:2]\n",
    "\n",
    "# Update Labels\n",
    "df.iloc[:, 0] = df.iloc[:, 0].map(gene_conv).fillna(df.iloc[:,0])\n",
    "df.iloc[:, 1] = df.iloc[:, 1].map(gene_conv).fillna(df.iloc[:,1])\n",
    "\n",
    "df"
   ],
   "id": "b535378c1b544305",
   "outputs": [
    {
     "data": {
      "text/plain": [
       "          Gene_1   Gene_2  Covaries\n",
       "0           IMP3    OR8U8         1\n",
       "1           FADD  C1orf56         1\n",
       "2        TRABD2B     IRX1         1\n",
       "3         OPN1LW  ZDHHC16         1\n",
       "4          TENM1   FKBP1B         1\n",
       "...          ...      ...       ...\n",
       "735151  ADAMTS12      A2M         0\n",
       "735152     CASP3  ATG16L1         0\n",
       "735153     CASP4    GSDMD         0\n",
       "735154     CASP6  ATG16L1         0\n",
       "735155      NMT2    CASP3         0\n",
       "\n",
       "[735156 rows x 3 columns]"
      ],
      "text/html": [
       "<div>\n",
       "<style scoped>\n",
       "    .dataframe tbody tr th:only-of-type {\n",
       "        vertical-align: middle;\n",
       "    }\n",
       "\n",
       "    .dataframe tbody tr th {\n",
       "        vertical-align: top;\n",
       "    }\n",
       "\n",
       "    .dataframe thead th {\n",
       "        text-align: right;\n",
       "    }\n",
       "</style>\n",
       "<table border=\"1\" class=\"dataframe\">\n",
       "  <thead>\n",
       "    <tr style=\"text-align: right;\">\n",
       "      <th></th>\n",
       "      <th>Gene_1</th>\n",
       "      <th>Gene_2</th>\n",
       "      <th>Covaries</th>\n",
       "    </tr>\n",
       "  </thead>\n",
       "  <tbody>\n",
       "    <tr>\n",
       "      <th>0</th>\n",
       "      <td>IMP3</td>\n",
       "      <td>OR8U8</td>\n",
       "      <td>1</td>\n",
       "    </tr>\n",
       "    <tr>\n",
       "      <th>1</th>\n",
       "      <td>FADD</td>\n",
       "      <td>C1orf56</td>\n",
       "      <td>1</td>\n",
       "    </tr>\n",
       "    <tr>\n",
       "      <th>2</th>\n",
       "      <td>TRABD2B</td>\n",
       "      <td>IRX1</td>\n",
       "      <td>1</td>\n",
       "    </tr>\n",
       "    <tr>\n",
       "      <th>3</th>\n",
       "      <td>OPN1LW</td>\n",
       "      <td>ZDHHC16</td>\n",
       "      <td>1</td>\n",
       "    </tr>\n",
       "    <tr>\n",
       "      <th>4</th>\n",
       "      <td>TENM1</td>\n",
       "      <td>FKBP1B</td>\n",
       "      <td>1</td>\n",
       "    </tr>\n",
       "    <tr>\n",
       "      <th>...</th>\n",
       "      <td>...</td>\n",
       "      <td>...</td>\n",
       "      <td>...</td>\n",
       "    </tr>\n",
       "    <tr>\n",
       "      <th>735151</th>\n",
       "      <td>ADAMTS12</td>\n",
       "      <td>A2M</td>\n",
       "      <td>0</td>\n",
       "    </tr>\n",
       "    <tr>\n",
       "      <th>735152</th>\n",
       "      <td>CASP3</td>\n",
       "      <td>ATG16L1</td>\n",
       "      <td>0</td>\n",
       "    </tr>\n",
       "    <tr>\n",
       "      <th>735153</th>\n",
       "      <td>CASP4</td>\n",
       "      <td>GSDMD</td>\n",
       "      <td>0</td>\n",
       "    </tr>\n",
       "    <tr>\n",
       "      <th>735154</th>\n",
       "      <td>CASP6</td>\n",
       "      <td>ATG16L1</td>\n",
       "      <td>0</td>\n",
       "    </tr>\n",
       "    <tr>\n",
       "      <th>735155</th>\n",
       "      <td>NMT2</td>\n",
       "      <td>CASP3</td>\n",
       "      <td>0</td>\n",
       "    </tr>\n",
       "  </tbody>\n",
       "</table>\n",
       "<p>735156 rows × 3 columns</p>\n",
       "</div>"
      ]
     },
     "execution_count": 9,
     "metadata": {},
     "output_type": "execute_result"
    }
   ],
   "execution_count": 9
  },
  {
   "metadata": {},
   "cell_type": "markdown",
   "source": "## Dataset\n",
   "id": "93000bc46e49e1dd"
  },
  {
   "metadata": {
    "ExecuteTime": {
     "end_time": "2025-05-14T07:21:21.227334Z",
     "start_time": "2025-05-14T07:21:20.170428Z"
    }
   },
   "cell_type": "code",
   "source": "from utils.datasets import IBKHDataset",
   "id": "189c3378918e0716",
   "outputs": [],
   "execution_count": 4
  },
  {
   "metadata": {
    "ExecuteTime": {
     "end_time": "2025-05-14T07:21:47.605296Z",
     "start_time": "2025-05-14T07:21:22.125122Z"
    }
   },
   "cell_type": "code",
   "source": [
    "iKBH_dataset = IBKHDataset(data_dir='data/iBKH') # TODO: Save row2identity, so I dont have to re-run this every time.\n",
    "input_triplet = iKBH_dataset.build_data()"
   ],
   "id": "be1b739a9ad41fef",
   "outputs": [
    {
     "data": {
      "text/plain": [
       "Building triples...:   0%|          | 0/6 [00:00<?, ?relations/s]"
      ],
      "application/vnd.jupyter.widget-view+json": {
       "version_major": 2,
       "version_minor": 0,
       "model_id": "b0d8fabec1e64ddca085b65ac86dd7a5"
      }
     },
     "metadata": {},
     "output_type": "display_data"
    }
   ],
   "execution_count": 5
  },
  {
   "metadata": {
    "ExecuteTime": {
     "end_time": "2025-05-13T21:19:09.138096Z",
     "start_time": "2025-05-13T21:19:08.865926Z"
    }
   },
   "cell_type": "code",
   "source": [
    "# Inputs processing\n",
    "torch.save(input_triplet, 'inputs/KGE/input_triplet.pt')"
   ],
   "id": "491e3faa90a26fc1",
   "outputs": [],
   "execution_count": 6
  },
  {
   "metadata": {},
   "cell_type": "markdown",
   "source": [
    "---\n",
    "# EHR"
   ],
   "id": "d5f9ac991f1fbc8f"
  },
  {
   "metadata": {
    "ExecuteTime": {
     "end_time": "2025-05-14T07:21:59.960637Z",
     "start_time": "2025-05-14T07:21:59.957579Z"
    }
   },
   "cell_type": "code",
   "source": [
    "# DATA\n",
    "filepath = 'data/MIMIC-III'\n",
    "filepath = os.path.expanduser(filepath)"
   ],
   "id": "4bf2265143005b71",
   "outputs": [],
   "execution_count": 6
  },
  {
   "metadata": {
    "ExecuteTime": {
     "end_time": "2025-05-14T07:22:00.376630Z",
     "start_time": "2025-05-14T07:22:00.342996Z"
    }
   },
   "cell_type": "code",
   "source": [
    "icd_metadata_df = pd.read_csv(os.path.join(filepath, 'D_ICD_DIAGNOSES.csv'))\n",
    "icd_metadata_df"
   ],
   "id": "d080c06f41ef57f4",
   "outputs": [
    {
     "data": {
      "text/plain": [
       "       ROW_ID ICD9_CODE               SHORT_TITLE  \\\n",
       "0          55      0065      Amebic brain abscess   \n",
       "1          56      0066    Amebic skin ulceration   \n",
       "2          57      0068      Amebic infection NEC   \n",
       "3          58      0069             Amebiasis NOS   \n",
       "4          59      0070             Balantidiasis   \n",
       "...       ...       ...                       ...   \n",
       "14562   10053     V1368   Hx-cong malform-skin,ms   \n",
       "14563   11201     79508  Unsat cerv cytlogy smear   \n",
       "14564   11202     79509    Abn pap cervix HPV NEC   \n",
       "14565   11203     79510  Abn gland pap smr vagina   \n",
       "14566   11204     79511    Pap smear vag w ASC-US   \n",
       "\n",
       "                                              LONG_TITLE  \n",
       "0                                   Amebic brain abscess  \n",
       "1                                 Amebic skin ulceration  \n",
       "2                        Amebic infection of other sites  \n",
       "3                                 Amebiasis, unspecified  \n",
       "4                                          Balantidiasis  \n",
       "...                                                  ...  \n",
       "14562  Personal history of (corrected) congenital mal...  \n",
       "14563             Unsatisfactory cervical cytology smear  \n",
       "14564  Other abnormal Papanicolaou smear of cervix an...  \n",
       "14565    Abnormal glandular Papanicolaou smear of vagina  \n",
       "14566  Papanicolaou smear of vagina with atypical squ...  \n",
       "\n",
       "[14567 rows x 4 columns]"
      ],
      "text/html": [
       "<div>\n",
       "<style scoped>\n",
       "    .dataframe tbody tr th:only-of-type {\n",
       "        vertical-align: middle;\n",
       "    }\n",
       "\n",
       "    .dataframe tbody tr th {\n",
       "        vertical-align: top;\n",
       "    }\n",
       "\n",
       "    .dataframe thead th {\n",
       "        text-align: right;\n",
       "    }\n",
       "</style>\n",
       "<table border=\"1\" class=\"dataframe\">\n",
       "  <thead>\n",
       "    <tr style=\"text-align: right;\">\n",
       "      <th></th>\n",
       "      <th>ROW_ID</th>\n",
       "      <th>ICD9_CODE</th>\n",
       "      <th>SHORT_TITLE</th>\n",
       "      <th>LONG_TITLE</th>\n",
       "    </tr>\n",
       "  </thead>\n",
       "  <tbody>\n",
       "    <tr>\n",
       "      <th>0</th>\n",
       "      <td>55</td>\n",
       "      <td>0065</td>\n",
       "      <td>Amebic brain abscess</td>\n",
       "      <td>Amebic brain abscess</td>\n",
       "    </tr>\n",
       "    <tr>\n",
       "      <th>1</th>\n",
       "      <td>56</td>\n",
       "      <td>0066</td>\n",
       "      <td>Amebic skin ulceration</td>\n",
       "      <td>Amebic skin ulceration</td>\n",
       "    </tr>\n",
       "    <tr>\n",
       "      <th>2</th>\n",
       "      <td>57</td>\n",
       "      <td>0068</td>\n",
       "      <td>Amebic infection NEC</td>\n",
       "      <td>Amebic infection of other sites</td>\n",
       "    </tr>\n",
       "    <tr>\n",
       "      <th>3</th>\n",
       "      <td>58</td>\n",
       "      <td>0069</td>\n",
       "      <td>Amebiasis NOS</td>\n",
       "      <td>Amebiasis, unspecified</td>\n",
       "    </tr>\n",
       "    <tr>\n",
       "      <th>4</th>\n",
       "      <td>59</td>\n",
       "      <td>0070</td>\n",
       "      <td>Balantidiasis</td>\n",
       "      <td>Balantidiasis</td>\n",
       "    </tr>\n",
       "    <tr>\n",
       "      <th>...</th>\n",
       "      <td>...</td>\n",
       "      <td>...</td>\n",
       "      <td>...</td>\n",
       "      <td>...</td>\n",
       "    </tr>\n",
       "    <tr>\n",
       "      <th>14562</th>\n",
       "      <td>10053</td>\n",
       "      <td>V1368</td>\n",
       "      <td>Hx-cong malform-skin,ms</td>\n",
       "      <td>Personal history of (corrected) congenital mal...</td>\n",
       "    </tr>\n",
       "    <tr>\n",
       "      <th>14563</th>\n",
       "      <td>11201</td>\n",
       "      <td>79508</td>\n",
       "      <td>Unsat cerv cytlogy smear</td>\n",
       "      <td>Unsatisfactory cervical cytology smear</td>\n",
       "    </tr>\n",
       "    <tr>\n",
       "      <th>14564</th>\n",
       "      <td>11202</td>\n",
       "      <td>79509</td>\n",
       "      <td>Abn pap cervix HPV NEC</td>\n",
       "      <td>Other abnormal Papanicolaou smear of cervix an...</td>\n",
       "    </tr>\n",
       "    <tr>\n",
       "      <th>14565</th>\n",
       "      <td>11203</td>\n",
       "      <td>79510</td>\n",
       "      <td>Abn gland pap smr vagina</td>\n",
       "      <td>Abnormal glandular Papanicolaou smear of vagina</td>\n",
       "    </tr>\n",
       "    <tr>\n",
       "      <th>14566</th>\n",
       "      <td>11204</td>\n",
       "      <td>79511</td>\n",
       "      <td>Pap smear vag w ASC-US</td>\n",
       "      <td>Papanicolaou smear of vagina with atypical squ...</td>\n",
       "    </tr>\n",
       "  </tbody>\n",
       "</table>\n",
       "<p>14567 rows × 4 columns</p>\n",
       "</div>"
      ]
     },
     "execution_count": 7,
     "metadata": {},
     "output_type": "execute_result"
    }
   ],
   "execution_count": 7
  },
  {
   "metadata": {
    "ExecuteTime": {
     "end_time": "2025-05-14T07:22:04.512503Z",
     "start_time": "2025-05-14T07:22:01.522897Z"
    }
   },
   "cell_type": "code",
   "source": [
    "ehr_df = pd.read_csv(os.path.join(filepath, 'DIAGNOSES_ICD.csv'),\n",
    "                     usecols=['SUBJECT_ID','ICD9_CODE'],\n",
    "                     ).dropna(ignore_index=True)\n",
    "\n",
    "# Rename\n",
    "ehr_df.rename(columns={\n",
    "    'SUBJECT_ID': 'patient_id',\n",
    "    'ICD9_CODE': 'icd9_code'\n",
    "}, inplace=True)\n",
    "\n",
    "# Isolate Immune conditions # TODO: Discuss immune condition issues\n",
    "# immune_icd9_codes = [ '7100', '7140', '725', '2790', '2791', '9953', '2880', '5550', '5560', '99527', '2792', '2387', '2885', '2886', '9952' ]\n",
    "# ehr_df = ehr_df[ehr_df['icd9_code'].isin(immune_icd9_codes)]\n",
    "\n",
    "# Make into Bag-of-Words (BoW)\n",
    "ehr_df = (ehr_df\n",
    "          .pivot_table(index='patient_id',\n",
    "                       columns='icd9_code',\n",
    "                       aggfunc='size',\n",
    "                       fill_value=0)\n",
    "          .sort_index())"
   ],
   "id": "f8ad4b19924d238f",
   "outputs": [],
   "execution_count": 8
  },
  {
   "metadata": {
    "ExecuteTime": {
     "end_time": "2025-05-14T07:26:25.163481Z",
     "start_time": "2025-05-14T07:26:25.139450Z"
    }
   },
   "cell_type": "code",
   "source": [
    "# Re-order based on iBKH\n",
    "disease_order = [\n",
    "    name for typ, name in iKBH_dataset.row2entity\n",
    "    if typ == 'disease' and name in ehr_df.columns # IF disease name in (iBKH) AND disease name in (EHR)\n",
    "]\n",
    "\n",
    "ehr_df = ehr_df[disease_order]\n",
    "ehr_df = ehr_df.loc[~(ehr_df == 0).all(axis=1)]\n",
    "\n",
    "ehr_data = ehr_df                     # DataFrame Shape(patient_id, icd_9)\n",
    "X_ehr = torch.Tensor(ehr_data.values) # Tensor"
   ],
   "id": "52858b105c133e1c",
   "outputs": [],
   "execution_count": 12
  },
  {
   "metadata": {
    "ExecuteTime": {
     "end_time": "2025-05-14T07:26:28.894409Z",
     "start_time": "2025-05-14T07:26:28.852709Z"
    }
   },
   "cell_type": "code",
   "source": [
    "# Inputs processing\n",
    "input_filepath = 'inputs/GraphETM'\n",
    "\n",
    "torch.save(X_ehr, os.path.join(input_filepath, 'X_ehr.pt'))\n",
    "ehr_data.to_csv(os.path.join(input_filepath, 'input_EHR.csv'), index=False)\n",
    "\n",
    "# (Optional) Metadata\n",
    "icd_metadata_df.to_csv(os.path.join(input_filepath, 'optional/input_EHR_metadata.csv'), index=False)"
   ],
   "id": "b73ba6efacdc4d61",
   "outputs": [],
   "execution_count": 13
  },
  {
   "metadata": {
    "ExecuteTime": {
     "end_time": "2025-05-14T07:26:53.172332Z",
     "start_time": "2025-05-14T07:26:53.149010Z"
    }
   },
   "cell_type": "code",
   "source": [
    "# Save disease indices (for rho)\n",
    "id_embed_ehr = [\n",
    "    idx for idx, (typ, name) in enumerate(iKBH_dataset.row2entity)\n",
    "    if typ == 'disease' and name in ehr_df.columns # IF disease name in (iBKH) AND disease name in (EHR)\n",
    "]\n",
    "\n",
    "np.save(os.path.join(input_filepath, 'id_embed_ehr.npy'), np.array(id_embed_ehr))"
   ],
   "id": "c36ff38863314218",
   "outputs": [],
   "execution_count": 14
  },
  {
   "metadata": {},
   "cell_type": "markdown",
   "source": [
    "---\n",
    "# PBMC"
   ],
   "id": "112b786bd17ab99c"
  },
  {
   "metadata": {
    "ExecuteTime": {
     "end_time": "2025-05-14T03:55:01.320263Z",
     "start_time": "2025-05-14T03:55:01.316733Z"
    }
   },
   "cell_type": "code",
   "source": [
    "# DATA\n",
    "filepath = 'data/PBMC'\n",
    "filepath = os.path.expanduser(filepath)"
   ],
   "id": "a73467d4404445e4",
   "outputs": [],
   "execution_count": 6
  },
  {
   "metadata": {
    "ExecuteTime": {
     "end_time": "2025-05-14T04:04:22.774565Z",
     "start_time": "2025-05-14T04:04:22.516205Z"
    }
   },
   "cell_type": "code",
   "source": [
    "pbmc_data = mmread(os.path.join(filepath, 'matrix.mtx')).tocsc()\n",
    "pbmc_names = pd.read_csv(os.path.join(filepath, 'genes.tsv'), sep='\\t', header=None)\n",
    "pbmc_data = pd.DataFrame(pbmc_data.toarray().T, columns=pbmc_names[1])"
   ],
   "id": "409e1b17a7f3dcc0",
   "outputs": [],
   "execution_count": 12
  },
  {
   "metadata": {
    "ExecuteTime": {
     "end_time": "2025-05-14T04:04:23.557548Z",
     "start_time": "2025-05-14T04:04:23.334871Z"
    }
   },
   "cell_type": "code",
   "source": [
    "# Make dataframe unique\n",
    "pbmc_data = pbmc_data.loc[:, ~pbmc_data.columns.duplicated()]"
   ],
   "id": "879aafc90248ddce",
   "outputs": [],
   "execution_count": 13
  },
  {
   "metadata": {
    "ExecuteTime": {
     "end_time": "2025-05-14T04:04:28.252081Z",
     "start_time": "2025-05-14T04:04:27.922004Z"
    }
   },
   "cell_type": "code",
   "source": [
    "# Re-order based on iBKH\n",
    "gene_order = [\n",
    "    name for typ, name in iKBH_dataset.row2entity\n",
    "    if typ == 'gene' and name in pbmc_data.columns # IF gene name in (iBKH) AND gene name in (PBMC)\n",
    "]\n",
    "\n",
    "pbmc_data = pbmc_data[gene_order]     # DataFrame\n",
    "X_sc = torch.Tensor(pbmc_data.values) # Tensor"
   ],
   "id": "aa50a95d8d446989",
   "outputs": [],
   "execution_count": 14
  },
  {
   "metadata": {
    "ExecuteTime": {
     "end_time": "2025-05-14T04:04:57.358943Z",
     "start_time": "2025-05-14T04:04:33.160529Z"
    }
   },
   "cell_type": "code",
   "source": [
    "# PBMC Input Processing\n",
    "input_filepath = 'inputs/GraphETM'\n",
    "\n",
    "torch.save(X_sc, os.path.join(input_filepath, 'X_sc.pt'))\n",
    "pbmc_data.to_csv(os.path.join(input_filepath, 'input_PBMC.csv'), index=False)"
   ],
   "id": "967ae0fc6704031c",
   "outputs": [],
   "execution_count": 15
  },
  {
   "metadata": {
    "ExecuteTime": {
     "end_time": "2025-05-14T04:05:20.368904Z",
     "start_time": "2025-05-14T04:05:04.974753Z"
    }
   },
   "cell_type": "code",
   "source": [
    "# Save gene indices (for rho)\n",
    "id_embed_sc = [\n",
    "    idx for idx, (typ, name) in enumerate(iKBH_dataset.row2entity)\n",
    "    if typ == 'gene' and name in pbmc_data.columns # IF gene name in (iBKH) AND gene name in (PBMC)\n",
    "]\n",
    "\n",
    "np.save(os.path.join(input_filepath, 'id_embed_sc.npy'), np.array(id_embed_sc))"
   ],
   "id": "eabb0526e09663c2",
   "outputs": [],
   "execution_count": 16
  },
  {
   "metadata": {},
   "cell_type": "code",
   "outputs": [],
   "execution_count": null,
   "source": "# DONE",
   "id": "cd17e7eb32e4e176"
  }
 ],
 "metadata": {
  "kernelspec": {
   "display_name": "Python 3",
   "language": "python",
   "name": "python3"
  },
  "language_info": {
   "codemirror_mode": {
    "name": "ipython",
    "version": 2
   },
   "file_extension": ".py",
   "mimetype": "text/x-python",
   "name": "python",
   "nbconvert_exporter": "python",
   "pygments_lexer": "ipython2",
   "version": "2.7.6"
  }
 },
 "nbformat": 4,
 "nbformat_minor": 5
}
